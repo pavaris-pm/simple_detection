{
  "nbformat": 4,
  "nbformat_minor": 0,
  "metadata": {
    "colab": {
      "provenance": [],
      "include_colab_link": true
    },
    "kernelspec": {
      "name": "python3",
      "display_name": "Python 3"
    },
    "language_info": {
      "name": "python"
    }
  },
  "cells": [
    {
      "cell_type": "markdown",
      "metadata": {
        "id": "view-in-github",
        "colab_type": "text"
      },
      "source": [
        "<a href=\"https://colab.research.google.com/github/pavaris-pm/simple_detection/blob/main/colorRangedetection.ipynb\" target=\"_parent\"><img src=\"https://colab.research.google.com/assets/colab-badge.svg\" alt=\"Open In Colab\"/></a>"
      ]
    },
    {
      "cell_type": "code",
      "execution_count": 15,
      "metadata": {
        "id": "5RA51t80S7K3"
      },
      "outputs": [],
      "source": [
        "import numpy as np\n",
        "import cv2"
      ]
    },
    {
      "cell_type": "code",
      "source": [
        "def load_image(path_img):\n",
        "    return cv2.imread(path_img)"
      ],
      "metadata": {
        "id": "393IaWw-Vpkw"
      },
      "execution_count": 16,
      "outputs": []
    },
    {
      "cell_type": "code",
      "source": [
        "def bgr2hsv(img):\n",
        "    return cv2.cvtColor(img, cv2.COLOR_BGR2HSV)"
      ],
      "metadata": {
        "id": "UiYHL_B9YOCp"
      },
      "execution_count": 17,
      "outputs": []
    },
    {
      "cell_type": "code",
      "source": [
        "def setRangeColor(hsv, lower_color, upper_color):\n",
        "    return cv2.inRange(hsv, lower_color, upper_color)"
      ],
      "metadata": {
        "id": "rPu1_T5kYaT5"
      },
      "execution_count": 18,
      "outputs": []
    },
    {
      "cell_type": "code",
      "source": [
        "def contours_img(mask):\n",
        "    contours, _ = cv2.findContours(mask, cv2.RETR_TREE, cv2.CHAIN_APPROX_SIMPLE)\n",
        "    return contours\n"
      ],
      "metadata": {
        "id": "JZO9dzCQYgRw"
      },
      "execution_count": 19,
      "outputs": []
    },
    {
      "cell_type": "code",
      "source": [
        "def filter_contours_img(contours, img_draw, color_bbox, threshold):\n",
        "    count = 0\n",
        "    for c in contours:\n",
        "        rect = cv2.boundingRect(c)\n",
        "        x,y,w,h = rect\n",
        "        area = w * h\n",
        "        if area > threshold:\n",
        "            count = count + 1 # นับ object ที่มีพื้นที่มากกว่า 1000 pixel\n",
        "            cv2.rectangle(img_draw, (x, y), (x+w, y+h), color_bbox, 5)\n",
        "    return img_draw, count"
      ],
      "metadata": {
        "id": "MFOeh02MYptv"
      },
      "execution_count": 20,
      "outputs": []
    },
    {
      "cell_type": "code",
      "source": [
        "def draw_text_on_image(img_draw, count_yellow, count_orange):\n",
        "    cv2.rectangle(img_draw, (0, 0), (500, 120), (0,0,0), -1)\n",
        "    cv2.putText(img_draw,'Orange Count : ' + str(count_orange),\n",
        "        (10,50),                  # bottomLeftCornerOfText\n",
        "        cv2.FONT_HERSHEY_SIMPLEX, # font\n",
        "        1.5,                      # fontScale\n",
        "        (0,255,255),            # fontColor\n",
        "        2)                        # lineType\n",
        "    cv2.putText(img_draw,'Yellow Count : ' + str(count_yellow),\n",
        "        (10,100),                  # bottomLeftCornerOfText\n",
        "        cv2.FONT_HERSHEY_SIMPLEX, # font\n",
        "        1.5,                      # fontScale\n",
        "        (0,255,255),            # fontColor\n",
        "        2)                        # lineType\n",
        "    return img_draw"
      ],
      "metadata": {
        "id": "0aQ7_TOlYzy3"
      },
      "execution_count": 21,
      "outputs": []
    },
    {
      "cell_type": "code",
      "source": [
        "def detect_object(filepath: str, threshold: int):\n",
        " img = load_image(filepath)\n",
        " img = cv2.resize(img, None,fx=0.5,fy=0.5)\n",
        " hsv = bgr2hsv(img)\n",
        " img_draw = img\n",
        "# define range of Yellow color in HSV\n",
        " lower_ํYellow = np.array([20,100,100])\n",
        " upper_Yellow = np.array([45,255,255])\n",
        " mask = setRangeColor(hsv, lower_ํYellow, upper_Yellow)\n",
        " contours = contours_img(mask)\n",
        " color_bbox = (0, 0, 255)\n",
        " img_draw, count_yellow = filter_contours_img(contours,\n",
        "                                              img_draw,\n",
        "                                              color_bbox,\n",
        "                                              threshold=threshold,\n",
        "                                              )\n",
        " print(\"Yellow Count:\", count_yellow)\n",
        "# define range of Orange color in HSV\n",
        " lower_Orange = np.array([0,150,150])\n",
        " upper_Orange = np.array([20,255,255])\n",
        " mask = setRangeColor(hsv, lower_Orange, upper_Orange)\n",
        " contours = contours_img(mask)\n",
        " color_bbox = (0, 255, 0)\n",
        " img_draw, count_orange = filter_contours_img(contours,\n",
        "                                              img_draw,\n",
        "                                              color_bbox,\n",
        "                                              threshold=threshold,\n",
        "                                              )\n",
        " #img_draw = draw_text_on_image(img_draw, count_yellow, count_orange)\n",
        " cv2.imwrite(f\"/content/{filepath.split('/')[-1]}_detect.jpg\", img_draw)\n",
        " print(\"Orange Count:\", count_orange)"
      ],
      "metadata": {
        "id": "-4fi4ePhY6ag"
      },
      "execution_count": 22,
      "outputs": []
    },
    {
      "cell_type": "markdown",
      "source": [
        "# Detecting an object in image"
      ],
      "metadata": {
        "id": "gao8PS8r-xbg"
      }
    },
    {
      "cell_type": "code",
      "source": [
        "detect_object('/content/orange.jpg', threshold=500)"
      ],
      "metadata": {
        "id": "Jce6NxkW-AvH",
        "outputId": "bc3bd335-e76e-411a-824f-8a7fdf53fc7a",
        "colab": {
          "base_uri": "https://localhost:8080/"
        }
      },
      "execution_count": 23,
      "outputs": [
        {
          "output_type": "stream",
          "name": "stdout",
          "text": [
            "Yellow Count: 16\n",
            "Orange Count: 14\n"
          ]
        }
      ]
    },
    {
      "cell_type": "code",
      "source": [],
      "metadata": {
        "id": "lO0DMg6Y_qry"
      },
      "execution_count": null,
      "outputs": []
    }
  ]
}
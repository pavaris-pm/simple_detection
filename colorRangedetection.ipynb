{
  "nbformat": 4,
  "nbformat_minor": 0,
  "metadata": {
    "colab": {
      "provenance": [],
      "include_colab_link": true
    },
    "kernelspec": {
      "name": "python3",
      "display_name": "Python 3"
    },
    "language_info": {
      "name": "python"
    }
  },
  "cells": [
    {
      "cell_type": "markdown",
      "metadata": {
        "id": "view-in-github",
        "colab_type": "text"
      },
      "source": [
        "<a href=\"https://colab.research.google.com/github/pavaris-pm/simple_detection/blob/main/colorRangedetection.ipynb\" target=\"_parent\"><img src=\"https://colab.research.google.com/assets/colab-badge.svg\" alt=\"Open In Colab\"/></a>"
      ]
    },
    {
      "cell_type": "code",
      "execution_count": null,
      "metadata": {
        "id": "5RA51t80S7K3"
      },
      "outputs": [],
      "source": [
        "import numpy as np\n",
        "import cv2"
      ]
    },
    {
      "cell_type": "code",
      "source": [
        "def load_image(path_img):\n",
        "    return cv2.imread(Project.jpg)"
      ],
      "metadata": {
        "id": "393IaWw-Vpkw"
      },
      "execution_count": null,
      "outputs": []
    },
    {
      "cell_type": "code",
      "source": [
        "def bgr2hsv(img):\n",
        "    return cv2.cvtColor(img, cv2.COLOR_BGR2HSV)"
      ],
      "metadata": {
        "id": "UiYHL_B9YOCp"
      },
      "execution_count": null,
      "outputs": []
    },
    {
      "cell_type": "code",
      "source": [
        "def setRangeColor(hsv, lower_color, upper_color):\n",
        "    return cv2.inRange(hsv, lower_color, upper_color)"
      ],
      "metadata": {
        "id": "rPu1_T5kYaT5"
      },
      "execution_count": null,
      "outputs": []
    },
    {
      "cell_type": "code",
      "source": [
        "def contours_img(mask):\n",
        "    _, contours, _ = cv2.findContours(mask, cv2.RETR_TREE, cv2.CHAIN_APPROX_SIMPLE)\n",
        "    return contours\n"
      ],
      "metadata": {
        "id": "JZO9dzCQYgRw"
      },
      "execution_count": null,
      "outputs": []
    },
    {
      "cell_type": "code",
      "source": [
        "def filter_contours_img(contours, img_draw, color_bbox):\n",
        "    count = 0\n",
        "    for c in contours:\n",
        "        rect = cv2.boundingRect(c)\n",
        "        x,y,w,h = rect\n",
        "        area = w * h\n",
        "        if area > 1000:\n",
        "            count = count + 1 # นับ object ที่มีพื้นที่มากกว่า 1000 pixel\n",
        "            cv2.rectangle(img_draw, (x, y), (x+w, y+h), color_bbox, 5)\n",
        "    return img_draw, count"
      ],
      "metadata": {
        "id": "MFOeh02MYptv"
      },
      "execution_count": null,
      "outputs": []
    },
    {
      "cell_type": "code",
      "source": [
        "def draw_text_on_image(img_draw, count_yellow, count_orange):\n",
        "    cv2.rectangle(img_draw, (0, 0), (500, 120), (0,0,0), -1)\n",
        "    cv2.putText(img_draw,'Orange Count : ' + str(count_orange),\n",
        "        (10,50),                  # bottomLeftCornerOfText\n",
        "        cv2.FONT_HERSHEY_SIMPLEX, # font\n",
        "        1.5,                      # fontScale\n",
        "        (0,255,255),            # fontColor\n",
        "        2)                        # lineType\n",
        "    cv2.putText(img_draw,'Yellow Count : ' + str(count_yellow),\n",
        "        (10,100),                  # bottomLeftCornerOfText\n",
        "        cv2.FONT_HERSHEY_SIMPLEX, # font\n",
        "        1.5,                      # fontScale\n",
        "        (0,255,255),            # fontColor\n",
        "        2)                        # lineType\n",
        "    return img_draw"
      ],
      "metadata": {
        "id": "0aQ7_TOlYzy3"
      },
      "execution_count": null,
      "outputs": []
    },
    {
      "cell_type": "code",
      "source": [
        "def main():\n",
        " Project_img = ‘#Project.jpg’\n",
        " img = load_image(path_img)\n",
        " img = cv2.resize(img, None,fx=0.5,fy=0.5)\n",
        " hsv = bgr2hsv(img)\n",
        " img_draw = img\n",
        "# define range of Yellow color in HSV\n",
        " lower_ํYellow = np.array([20,100,100])\n",
        " upper_Yellow = np.array([45,255,255])\n",
        " mask = setRangeColor(hsv, lower_ํYellow, upper_Yellow)\n",
        " contours = contours_img(mask)\n",
        " color_bbox = (0, 0, 255)\n",
        " img_draw, count_yellow = filter_contours_img(contours, img_draw, color_bbox)\n",
        " print(‘Yellow Count:’, count_yellow)\n",
        "# define range of Orange color in HSV\n",
        " lower_Orange = np.array([0,150,150])\n",
        " upper_Orange = np.array([20,255,255])\n",
        " mask = setRangeColor(hsv, lower_Orange, upper_Orange)\n",
        " contours = contours_img(mask)\n",
        " color_bbox = (0, 255, 0)\n",
        " img_draw, count_orange = filter_contours_img(contours, img_draw, color_bbox)\n",
        "img_draw = draw_text_on_image(img_draw, count_yellow, count_orange)\n",
        "cv2.imwrite(‘Project.jpg')\n",
        " print(‘Orange Count:’, count_orange)"
      ],
      "metadata": {
        "colab": {
          "base_uri": "https://localhost:8080/",
          "height": 106
        },
        "id": "-4fi4ePhY6ag",
        "outputId": "173b0175-444d-49e6-9d23-f6b8623730fc"
      },
      "execution_count": null,
      "outputs": [
        {
          "output_type": "error",
          "ename": "SyntaxError",
          "evalue": "invalid character '‘' (U+2018) (<ipython-input-17-fa717c591545>, line 2)",
          "traceback": [
            "\u001b[0;36m  File \u001b[0;32m\"<ipython-input-17-fa717c591545>\"\u001b[0;36m, line \u001b[0;32m2\u001b[0m\n\u001b[0;31m    Project_img = ‘/workdir/siri/medium/Blog#Project.jpg’\u001b[0m\n\u001b[0m                  ^\u001b[0m\n\u001b[0;31mSyntaxError\u001b[0m\u001b[0;31m:\u001b[0m invalid character '‘' (U+2018)\n"
          ]
        }
      ]
    }
  ]
}